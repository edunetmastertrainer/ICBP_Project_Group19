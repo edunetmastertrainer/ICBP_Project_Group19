{
 "cells": [
  {
   "cell_type": "code",
   "execution_count": 28,
   "metadata": {},
   "outputs": [],
   "source": [
    "import pandas as pd\n",
    "import numpy as np"
   ]
  },
  {
   "cell_type": "code",
   "execution_count": 29,
   "metadata": {},
   "outputs": [
    {
     "data": {
      "text/html": [
       "<div>\n",
       "<style scoped>\n",
       "    .dataframe tbody tr th:only-of-type {\n",
       "        vertical-align: middle;\n",
       "    }\n",
       "\n",
       "    .dataframe tbody tr th {\n",
       "        vertical-align: top;\n",
       "    }\n",
       "\n",
       "    .dataframe thead th {\n",
       "        text-align: right;\n",
       "    }\n",
       "</style>\n",
       "<table border=\"1\" class=\"dataframe\">\n",
       "  <thead>\n",
       "    <tr style=\"text-align: right;\">\n",
       "      <th></th>\n",
       "      <th>Age</th>\n",
       "      <th>Gender</th>\n",
       "      <th>TB</th>\n",
       "      <th>DB</th>\n",
       "      <th>Alkphos</th>\n",
       "      <th>Sgpt</th>\n",
       "      <th>Sgot</th>\n",
       "      <th>TP</th>\n",
       "      <th>ALB</th>\n",
       "      <th>A/G Ratio</th>\n",
       "      <th>Selector</th>\n",
       "    </tr>\n",
       "  </thead>\n",
       "  <tbody>\n",
       "    <tr>\n",
       "      <th>0</th>\n",
       "      <td>65</td>\n",
       "      <td>Female</td>\n",
       "      <td>0.7</td>\n",
       "      <td>0.1</td>\n",
       "      <td>187</td>\n",
       "      <td>16</td>\n",
       "      <td>18</td>\n",
       "      <td>6.8</td>\n",
       "      <td>3.3</td>\n",
       "      <td>0.90</td>\n",
       "      <td>1</td>\n",
       "    </tr>\n",
       "    <tr>\n",
       "      <th>1</th>\n",
       "      <td>62</td>\n",
       "      <td>Male</td>\n",
       "      <td>10.9</td>\n",
       "      <td>5.5</td>\n",
       "      <td>699</td>\n",
       "      <td>64</td>\n",
       "      <td>100</td>\n",
       "      <td>7.5</td>\n",
       "      <td>3.2</td>\n",
       "      <td>0.74</td>\n",
       "      <td>1</td>\n",
       "    </tr>\n",
       "    <tr>\n",
       "      <th>2</th>\n",
       "      <td>62</td>\n",
       "      <td>Male</td>\n",
       "      <td>7.3</td>\n",
       "      <td>4.1</td>\n",
       "      <td>490</td>\n",
       "      <td>60</td>\n",
       "      <td>68</td>\n",
       "      <td>7.0</td>\n",
       "      <td>3.3</td>\n",
       "      <td>0.89</td>\n",
       "      <td>1</td>\n",
       "    </tr>\n",
       "    <tr>\n",
       "      <th>3</th>\n",
       "      <td>58</td>\n",
       "      <td>Male</td>\n",
       "      <td>1.0</td>\n",
       "      <td>0.4</td>\n",
       "      <td>182</td>\n",
       "      <td>14</td>\n",
       "      <td>20</td>\n",
       "      <td>6.8</td>\n",
       "      <td>3.4</td>\n",
       "      <td>1.00</td>\n",
       "      <td>1</td>\n",
       "    </tr>\n",
       "    <tr>\n",
       "      <th>4</th>\n",
       "      <td>72</td>\n",
       "      <td>Male</td>\n",
       "      <td>3.9</td>\n",
       "      <td>2.0</td>\n",
       "      <td>195</td>\n",
       "      <td>27</td>\n",
       "      <td>59</td>\n",
       "      <td>7.3</td>\n",
       "      <td>2.4</td>\n",
       "      <td>0.40</td>\n",
       "      <td>1</td>\n",
       "    </tr>\n",
       "  </tbody>\n",
       "</table>\n",
       "</div>"
      ],
      "text/plain": [
       "   Age  Gender    TB   DB  Alkphos  Sgpt  Sgot   TP  ALB  A/G Ratio  Selector\n",
       "0   65  Female   0.7  0.1      187    16    18  6.8  3.3       0.90         1\n",
       "1   62    Male  10.9  5.5      699    64   100  7.5  3.2       0.74         1\n",
       "2   62    Male   7.3  4.1      490    60    68  7.0  3.3       0.89         1\n",
       "3   58    Male   1.0  0.4      182    14    20  6.8  3.4       1.00         1\n",
       "4   72    Male   3.9  2.0      195    27    59  7.3  2.4       0.40         1"
      ]
     },
     "execution_count": 29,
     "metadata": {},
     "output_type": "execute_result"
    }
   ],
   "source": [
    "df = pd.read_csv(\"../datasets/Liver.csv\")\n",
    "df.head()"
   ]
  },
  {
   "cell_type": "code",
   "execution_count": 90,
   "metadata": {},
   "outputs": [],
   "source": [
    "df1 = pd.read_csv(\"../datasets/Liver2.csv\")\n",
    "df=df1"
   ]
  },
  {
   "cell_type": "code",
   "execution_count": 91,
   "metadata": {},
   "outputs": [
    {
     "data": {
      "text/html": [
       "<div>\n",
       "<style scoped>\n",
       "    .dataframe tbody tr th:only-of-type {\n",
       "        vertical-align: middle;\n",
       "    }\n",
       "\n",
       "    .dataframe tbody tr th {\n",
       "        vertical-align: top;\n",
       "    }\n",
       "\n",
       "    .dataframe thead th {\n",
       "        text-align: right;\n",
       "    }\n",
       "</style>\n",
       "<table border=\"1\" class=\"dataframe\">\n",
       "  <thead>\n",
       "    <tr style=\"text-align: right;\">\n",
       "      <th></th>\n",
       "      <th>Age</th>\n",
       "      <th>Gender</th>\n",
       "      <th>TB</th>\n",
       "      <th>DB</th>\n",
       "      <th>Alkphos</th>\n",
       "      <th>Sgpt</th>\n",
       "      <th>Sgot</th>\n",
       "      <th>TP</th>\n",
       "      <th>ALB</th>\n",
       "      <th>A/G Ratio</th>\n",
       "      <th>Risk_Level</th>\n",
       "    </tr>\n",
       "  </thead>\n",
       "  <tbody>\n",
       "    <tr>\n",
       "      <th>0</th>\n",
       "      <td>32</td>\n",
       "      <td>Male</td>\n",
       "      <td>0.7</td>\n",
       "      <td>0.2</td>\n",
       "      <td>122</td>\n",
       "      <td>24</td>\n",
       "      <td>23</td>\n",
       "      <td>6.8</td>\n",
       "      <td>3.7</td>\n",
       "      <td>1.43</td>\n",
       "      <td>Low</td>\n",
       "    </tr>\n",
       "    <tr>\n",
       "      <th>1</th>\n",
       "      <td>33</td>\n",
       "      <td>Male</td>\n",
       "      <td>0.5</td>\n",
       "      <td>0.4</td>\n",
       "      <td>154</td>\n",
       "      <td>14</td>\n",
       "      <td>41</td>\n",
       "      <td>6.6</td>\n",
       "      <td>4.4</td>\n",
       "      <td>1.19</td>\n",
       "      <td>Low</td>\n",
       "    </tr>\n",
       "    <tr>\n",
       "      <th>2</th>\n",
       "      <td>71</td>\n",
       "      <td>Female</td>\n",
       "      <td>0.8</td>\n",
       "      <td>0.3</td>\n",
       "      <td>134</td>\n",
       "      <td>47</td>\n",
       "      <td>14</td>\n",
       "      <td>7.3</td>\n",
       "      <td>3.7</td>\n",
       "      <td>1.37</td>\n",
       "      <td>Low</td>\n",
       "    </tr>\n",
       "    <tr>\n",
       "      <th>3</th>\n",
       "      <td>77</td>\n",
       "      <td>Male</td>\n",
       "      <td>0.5</td>\n",
       "      <td>0.1</td>\n",
       "      <td>140</td>\n",
       "      <td>26</td>\n",
       "      <td>31</td>\n",
       "      <td>8.0</td>\n",
       "      <td>3.7</td>\n",
       "      <td>1.09</td>\n",
       "      <td>Low</td>\n",
       "    </tr>\n",
       "    <tr>\n",
       "      <th>4</th>\n",
       "      <td>47</td>\n",
       "      <td>Male</td>\n",
       "      <td>0.8</td>\n",
       "      <td>0.2</td>\n",
       "      <td>181</td>\n",
       "      <td>17</td>\n",
       "      <td>37</td>\n",
       "      <td>7.6</td>\n",
       "      <td>4.3</td>\n",
       "      <td>1.21</td>\n",
       "      <td>Low</td>\n",
       "    </tr>\n",
       "  </tbody>\n",
       "</table>\n",
       "</div>"
      ],
      "text/plain": [
       "   Age  Gender   TB   DB  Alkphos  Sgpt  Sgot   TP  ALB  A/G Ratio Risk_Level\n",
       "0   32    Male  0.7  0.2      122    24    23  6.8  3.7       1.43        Low\n",
       "1   33    Male  0.5  0.4      154    14    41  6.6  4.4       1.19        Low\n",
       "2   71  Female  0.8  0.3      134    47    14  7.3  3.7       1.37        Low\n",
       "3   77    Male  0.5  0.1      140    26    31  8.0  3.7       1.09        Low\n",
       "4   47    Male  0.8  0.2      181    17    37  7.6  4.3       1.21        Low"
      ]
     },
     "execution_count": 91,
     "metadata": {},
     "output_type": "execute_result"
    }
   ],
   "source": [
    "df.head()"
   ]
  },
  {
   "cell_type": "code",
   "execution_count": 92,
   "metadata": {},
   "outputs": [
    {
     "data": {
      "text/html": [
       "<div>\n",
       "<style scoped>\n",
       "    .dataframe tbody tr th:only-of-type {\n",
       "        vertical-align: middle;\n",
       "    }\n",
       "\n",
       "    .dataframe tbody tr th {\n",
       "        vertical-align: top;\n",
       "    }\n",
       "\n",
       "    .dataframe thead th {\n",
       "        text-align: right;\n",
       "    }\n",
       "</style>\n",
       "<table border=\"1\" class=\"dataframe\">\n",
       "  <thead>\n",
       "    <tr style=\"text-align: right;\">\n",
       "      <th></th>\n",
       "      <th>Age</th>\n",
       "      <th>TB</th>\n",
       "      <th>DB</th>\n",
       "      <th>Alkphos</th>\n",
       "      <th>Sgpt</th>\n",
       "      <th>Sgot</th>\n",
       "      <th>TP</th>\n",
       "      <th>ALB</th>\n",
       "      <th>A/G Ratio</th>\n",
       "    </tr>\n",
       "  </thead>\n",
       "  <tbody>\n",
       "    <tr>\n",
       "      <th>count</th>\n",
       "      <td>1998.000000</td>\n",
       "      <td>1998.000000</td>\n",
       "      <td>1998.000000</td>\n",
       "      <td>1998.000000</td>\n",
       "      <td>1998.000000</td>\n",
       "      <td>1998.000000</td>\n",
       "      <td>1998.000000</td>\n",
       "      <td>1998.000000</td>\n",
       "      <td>1998.000000</td>\n",
       "    </tr>\n",
       "    <tr>\n",
       "      <th>mean</th>\n",
       "      <td>48.189189</td>\n",
       "      <td>3.417417</td>\n",
       "      <td>1.506807</td>\n",
       "      <td>352.576076</td>\n",
       "      <td>92.409910</td>\n",
       "      <td>150.649149</td>\n",
       "      <td>6.755706</td>\n",
       "      <td>3.168268</td>\n",
       "      <td>0.919419</td>\n",
       "    </tr>\n",
       "    <tr>\n",
       "      <th>std</th>\n",
       "      <td>18.250146</td>\n",
       "      <td>3.280330</td>\n",
       "      <td>1.682686</td>\n",
       "      <td>197.970929</td>\n",
       "      <td>65.705894</td>\n",
       "      <td>138.657468</td>\n",
       "      <td>0.605429</td>\n",
       "      <td>0.687476</td>\n",
       "      <td>0.292376</td>\n",
       "    </tr>\n",
       "    <tr>\n",
       "      <th>min</th>\n",
       "      <td>17.000000</td>\n",
       "      <td>0.500000</td>\n",
       "      <td>0.100000</td>\n",
       "      <td>120.000000</td>\n",
       "      <td>10.000000</td>\n",
       "      <td>10.000000</td>\n",
       "      <td>5.500000</td>\n",
       "      <td>2.000000</td>\n",
       "      <td>0.400000</td>\n",
       "    </tr>\n",
       "    <tr>\n",
       "      <th>25%</th>\n",
       "      <td>32.000000</td>\n",
       "      <td>0.900000</td>\n",
       "      <td>0.300000</td>\n",
       "      <td>180.000000</td>\n",
       "      <td>40.000000</td>\n",
       "      <td>38.250000</td>\n",
       "      <td>6.300000</td>\n",
       "      <td>2.600000</td>\n",
       "      <td>0.700000</td>\n",
       "    </tr>\n",
       "    <tr>\n",
       "      <th>50%</th>\n",
       "      <td>48.000000</td>\n",
       "      <td>2.000000</td>\n",
       "      <td>0.700000</td>\n",
       "      <td>302.500000</td>\n",
       "      <td>75.000000</td>\n",
       "      <td>102.000000</td>\n",
       "      <td>6.800000</td>\n",
       "      <td>3.000000</td>\n",
       "      <td>0.900000</td>\n",
       "    </tr>\n",
       "    <tr>\n",
       "      <th>75%</th>\n",
       "      <td>64.000000</td>\n",
       "      <td>5.400000</td>\n",
       "      <td>2.400000</td>\n",
       "      <td>499.000000</td>\n",
       "      <td>136.000000</td>\n",
       "      <td>232.000000</td>\n",
       "      <td>7.200000</td>\n",
       "      <td>3.700000</td>\n",
       "      <td>1.140000</td>\n",
       "    </tr>\n",
       "    <tr>\n",
       "      <th>max</th>\n",
       "      <td>79.000000</td>\n",
       "      <td>12.000000</td>\n",
       "      <td>6.000000</td>\n",
       "      <td>799.000000</td>\n",
       "      <td>249.000000</td>\n",
       "      <td>499.000000</td>\n",
       "      <td>8.000000</td>\n",
       "      <td>4.500000</td>\n",
       "      <td>1.500000</td>\n",
       "    </tr>\n",
       "  </tbody>\n",
       "</table>\n",
       "</div>"
      ],
      "text/plain": [
       "               Age           TB           DB      Alkphos         Sgpt  \\\n",
       "count  1998.000000  1998.000000  1998.000000  1998.000000  1998.000000   \n",
       "mean     48.189189     3.417417     1.506807   352.576076    92.409910   \n",
       "std      18.250146     3.280330     1.682686   197.970929    65.705894   \n",
       "min      17.000000     0.500000     0.100000   120.000000    10.000000   \n",
       "25%      32.000000     0.900000     0.300000   180.000000    40.000000   \n",
       "50%      48.000000     2.000000     0.700000   302.500000    75.000000   \n",
       "75%      64.000000     5.400000     2.400000   499.000000   136.000000   \n",
       "max      79.000000    12.000000     6.000000   799.000000   249.000000   \n",
       "\n",
       "              Sgot           TP          ALB    A/G Ratio  \n",
       "count  1998.000000  1998.000000  1998.000000  1998.000000  \n",
       "mean    150.649149     6.755706     3.168268     0.919419  \n",
       "std     138.657468     0.605429     0.687476     0.292376  \n",
       "min      10.000000     5.500000     2.000000     0.400000  \n",
       "25%      38.250000     6.300000     2.600000     0.700000  \n",
       "50%     102.000000     6.800000     3.000000     0.900000  \n",
       "75%     232.000000     7.200000     3.700000     1.140000  \n",
       "max     499.000000     8.000000     4.500000     1.500000  "
      ]
     },
     "execution_count": 92,
     "metadata": {},
     "output_type": "execute_result"
    }
   ],
   "source": [
    "df.describe()"
   ]
  },
  {
   "cell_type": "code",
   "execution_count": 93,
   "metadata": {},
   "outputs": [
    {
     "name": "stdout",
     "output_type": "stream",
     "text": [
      "<class 'pandas.core.frame.DataFrame'>\n",
      "RangeIndex: 1998 entries, 0 to 1997\n",
      "Data columns (total 11 columns):\n",
      " #   Column      Non-Null Count  Dtype  \n",
      "---  ------      --------------  -----  \n",
      " 0   Age         1998 non-null   int64  \n",
      " 1   Gender      1998 non-null   object \n",
      " 2   TB          1998 non-null   float64\n",
      " 3   DB          1998 non-null   float64\n",
      " 4   Alkphos     1998 non-null   int64  \n",
      " 5   Sgpt        1998 non-null   int64  \n",
      " 6   Sgot        1998 non-null   int64  \n",
      " 7   TP          1998 non-null   float64\n",
      " 8   ALB         1998 non-null   float64\n",
      " 9   A/G Ratio   1998 non-null   float64\n",
      " 10  Risk_Level  1998 non-null   object \n",
      "dtypes: float64(5), int64(4), object(2)\n",
      "memory usage: 171.8+ KB\n"
     ]
    }
   ],
   "source": [
    "df.info()"
   ]
  },
  {
   "cell_type": "code",
   "execution_count": 94,
   "metadata": {},
   "outputs": [
    {
     "data": {
      "text/plain": [
       "(1998, 11)"
      ]
     },
     "execution_count": 94,
     "metadata": {},
     "output_type": "execute_result"
    }
   ],
   "source": [
    "df.dropna(inplace=True)\n",
    "df.shape"
   ]
  },
  {
   "cell_type": "code",
   "execution_count": 95,
   "metadata": {},
   "outputs": [
    {
     "name": "stdout",
     "output_type": "stream",
     "text": [
      "<class 'pandas.core.frame.DataFrame'>\n",
      "RangeIndex: 1998 entries, 0 to 1997\n",
      "Data columns (total 11 columns):\n",
      " #   Column      Non-Null Count  Dtype  \n",
      "---  ------      --------------  -----  \n",
      " 0   Age         1998 non-null   int64  \n",
      " 1   Gender      1998 non-null   object \n",
      " 2   TB          1998 non-null   float64\n",
      " 3   DB          1998 non-null   float64\n",
      " 4   Alkphos     1998 non-null   int64  \n",
      " 5   Sgpt        1998 non-null   int64  \n",
      " 6   Sgot        1998 non-null   int64  \n",
      " 7   TP          1998 non-null   float64\n",
      " 8   ALB         1998 non-null   float64\n",
      " 9   A/G Ratio   1998 non-null   float64\n",
      " 10  Risk_Level  1998 non-null   object \n",
      "dtypes: float64(5), int64(4), object(2)\n",
      "memory usage: 171.8+ KB\n"
     ]
    }
   ],
   "source": [
    "df.info()"
   ]
  },
  {
   "cell_type": "code",
   "execution_count": 96,
   "metadata": {},
   "outputs": [
    {
     "data": {
      "text/plain": [
       "Gender\n",
       "Female    1005\n",
       "Male       993\n",
       "Name: count, dtype: int64"
      ]
     },
     "execution_count": 96,
     "metadata": {},
     "output_type": "execute_result"
    }
   ],
   "source": [
    "df['Gender'].value_counts()"
   ]
  },
  {
   "cell_type": "code",
   "execution_count": 97,
   "metadata": {},
   "outputs": [
    {
     "data": {
      "text/html": [
       "<div>\n",
       "<style scoped>\n",
       "    .dataframe tbody tr th:only-of-type {\n",
       "        vertical-align: middle;\n",
       "    }\n",
       "\n",
       "    .dataframe tbody tr th {\n",
       "        vertical-align: top;\n",
       "    }\n",
       "\n",
       "    .dataframe thead th {\n",
       "        text-align: right;\n",
       "    }\n",
       "</style>\n",
       "<table border=\"1\" class=\"dataframe\">\n",
       "  <thead>\n",
       "    <tr style=\"text-align: right;\">\n",
       "      <th></th>\n",
       "      <th>Age</th>\n",
       "      <th>Gender</th>\n",
       "      <th>TB</th>\n",
       "      <th>DB</th>\n",
       "      <th>Alkphos</th>\n",
       "      <th>Sgpt</th>\n",
       "      <th>Sgot</th>\n",
       "      <th>TP</th>\n",
       "      <th>ALB</th>\n",
       "      <th>A/G Ratio</th>\n",
       "      <th>Risk_Level</th>\n",
       "    </tr>\n",
       "  </thead>\n",
       "  <tbody>\n",
       "    <tr>\n",
       "      <th>0</th>\n",
       "      <td>32</td>\n",
       "      <td>0</td>\n",
       "      <td>0.7</td>\n",
       "      <td>0.2</td>\n",
       "      <td>122</td>\n",
       "      <td>24</td>\n",
       "      <td>23</td>\n",
       "      <td>6.8</td>\n",
       "      <td>3.7</td>\n",
       "      <td>1.43</td>\n",
       "      <td>1</td>\n",
       "    </tr>\n",
       "    <tr>\n",
       "      <th>1</th>\n",
       "      <td>33</td>\n",
       "      <td>0</td>\n",
       "      <td>0.5</td>\n",
       "      <td>0.4</td>\n",
       "      <td>154</td>\n",
       "      <td>14</td>\n",
       "      <td>41</td>\n",
       "      <td>6.6</td>\n",
       "      <td>4.4</td>\n",
       "      <td>1.19</td>\n",
       "      <td>1</td>\n",
       "    </tr>\n",
       "    <tr>\n",
       "      <th>2</th>\n",
       "      <td>71</td>\n",
       "      <td>1</td>\n",
       "      <td>0.8</td>\n",
       "      <td>0.3</td>\n",
       "      <td>134</td>\n",
       "      <td>47</td>\n",
       "      <td>14</td>\n",
       "      <td>7.3</td>\n",
       "      <td>3.7</td>\n",
       "      <td>1.37</td>\n",
       "      <td>1</td>\n",
       "    </tr>\n",
       "    <tr>\n",
       "      <th>3</th>\n",
       "      <td>77</td>\n",
       "      <td>0</td>\n",
       "      <td>0.5</td>\n",
       "      <td>0.1</td>\n",
       "      <td>140</td>\n",
       "      <td>26</td>\n",
       "      <td>31</td>\n",
       "      <td>8.0</td>\n",
       "      <td>3.7</td>\n",
       "      <td>1.09</td>\n",
       "      <td>1</td>\n",
       "    </tr>\n",
       "    <tr>\n",
       "      <th>4</th>\n",
       "      <td>47</td>\n",
       "      <td>0</td>\n",
       "      <td>0.8</td>\n",
       "      <td>0.2</td>\n",
       "      <td>181</td>\n",
       "      <td>17</td>\n",
       "      <td>37</td>\n",
       "      <td>7.6</td>\n",
       "      <td>4.3</td>\n",
       "      <td>1.21</td>\n",
       "      <td>1</td>\n",
       "    </tr>\n",
       "    <tr>\n",
       "      <th>...</th>\n",
       "      <td>...</td>\n",
       "      <td>...</td>\n",
       "      <td>...</td>\n",
       "      <td>...</td>\n",
       "      <td>...</td>\n",
       "      <td>...</td>\n",
       "      <td>...</td>\n",
       "      <td>...</td>\n",
       "      <td>...</td>\n",
       "      <td>...</td>\n",
       "      <td>...</td>\n",
       "    </tr>\n",
       "    <tr>\n",
       "      <th>1993</th>\n",
       "      <td>74</td>\n",
       "      <td>1</td>\n",
       "      <td>10.7</td>\n",
       "      <td>4.8</td>\n",
       "      <td>593</td>\n",
       "      <td>245</td>\n",
       "      <td>345</td>\n",
       "      <td>5.8</td>\n",
       "      <td>2.6</td>\n",
       "      <td>0.45</td>\n",
       "      <td>3</td>\n",
       "    </tr>\n",
       "    <tr>\n",
       "      <th>1994</th>\n",
       "      <td>78</td>\n",
       "      <td>1</td>\n",
       "      <td>3.7</td>\n",
       "      <td>3.0</td>\n",
       "      <td>649</td>\n",
       "      <td>160</td>\n",
       "      <td>411</td>\n",
       "      <td>5.5</td>\n",
       "      <td>2.5</td>\n",
       "      <td>0.58</td>\n",
       "      <td>3</td>\n",
       "    </tr>\n",
       "    <tr>\n",
       "      <th>1995</th>\n",
       "      <td>17</td>\n",
       "      <td>0</td>\n",
       "      <td>5.8</td>\n",
       "      <td>3.4</td>\n",
       "      <td>480</td>\n",
       "      <td>191</td>\n",
       "      <td>471</td>\n",
       "      <td>5.8</td>\n",
       "      <td>2.8</td>\n",
       "      <td>0.69</td>\n",
       "      <td>3</td>\n",
       "    </tr>\n",
       "    <tr>\n",
       "      <th>1996</th>\n",
       "      <td>31</td>\n",
       "      <td>0</td>\n",
       "      <td>9.1</td>\n",
       "      <td>4.8</td>\n",
       "      <td>440</td>\n",
       "      <td>222</td>\n",
       "      <td>481</td>\n",
       "      <td>5.8</td>\n",
       "      <td>2.2</td>\n",
       "      <td>0.55</td>\n",
       "      <td>3</td>\n",
       "    </tr>\n",
       "    <tr>\n",
       "      <th>1997</th>\n",
       "      <td>70</td>\n",
       "      <td>1</td>\n",
       "      <td>7.6</td>\n",
       "      <td>2.8</td>\n",
       "      <td>769</td>\n",
       "      <td>119</td>\n",
       "      <td>445</td>\n",
       "      <td>5.7</td>\n",
       "      <td>2.2</td>\n",
       "      <td>0.62</td>\n",
       "      <td>3</td>\n",
       "    </tr>\n",
       "  </tbody>\n",
       "</table>\n",
       "<p>1998 rows × 11 columns</p>\n",
       "</div>"
      ],
      "text/plain": [
       "      Age  Gender    TB   DB  Alkphos  Sgpt  Sgot   TP  ALB  A/G Ratio  \\\n",
       "0      32       0   0.7  0.2      122    24    23  6.8  3.7       1.43   \n",
       "1      33       0   0.5  0.4      154    14    41  6.6  4.4       1.19   \n",
       "2      71       1   0.8  0.3      134    47    14  7.3  3.7       1.37   \n",
       "3      77       0   0.5  0.1      140    26    31  8.0  3.7       1.09   \n",
       "4      47       0   0.8  0.2      181    17    37  7.6  4.3       1.21   \n",
       "...   ...     ...   ...  ...      ...   ...   ...  ...  ...        ...   \n",
       "1993   74       1  10.7  4.8      593   245   345  5.8  2.6       0.45   \n",
       "1994   78       1   3.7  3.0      649   160   411  5.5  2.5       0.58   \n",
       "1995   17       0   5.8  3.4      480   191   471  5.8  2.8       0.69   \n",
       "1996   31       0   9.1  4.8      440   222   481  5.8  2.2       0.55   \n",
       "1997   70       1   7.6  2.8      769   119   445  5.7  2.2       0.62   \n",
       "\n",
       "      Risk_Level  \n",
       "0              1  \n",
       "1              1  \n",
       "2              1  \n",
       "3              1  \n",
       "4              1  \n",
       "...          ...  \n",
       "1993           3  \n",
       "1994           3  \n",
       "1995           3  \n",
       "1996           3  \n",
       "1997           3  \n",
       "\n",
       "[1998 rows x 11 columns]"
      ]
     },
     "execution_count": 97,
     "metadata": {},
     "output_type": "execute_result"
    }
   ],
   "source": [
    "df[\"Gender\"] = df['Gender'].map({\"Male\":0,\"Female\":1})\n",
    "df['Risk_Level'] = df[\"Risk_Level\"].map({\"Low\":1,\"Moderate\":2,\"High\":3})\n",
    "df"
   ]
  },
  {
   "cell_type": "code",
   "execution_count": 98,
   "metadata": {},
   "outputs": [
    {
     "data": {
      "text/plain": [
       "<Axes: >"
      ]
     },
     "execution_count": 98,
     "metadata": {},
     "output_type": "execute_result"
    },
    {
     "data": {
      "image/png": "[encoded data removed]",
      "text/plain": [
       "<Figure size 640x480 with 2 Axes>"
      ]
     },
     "metadata": {},
     "output_type": "display_data"
    }
   ],
   "source": [
    "import seaborn as sns\n",
    "sns.heatmap(df.corr())"
   ]
  },
  {
   "cell_type": "code",
   "execution_count": 99,
   "metadata": {},
   "outputs": [
    {
     "name": "stdout",
     "output_type": "stream",
     "text": [
      "(1998, 10)\n",
      "(1998,)\n"
     ]
    }
   ],
   "source": [
    "X = df.drop(columns=[\"Risk_Level\"])\n",
    "Y = df[\"Risk_Level\"]\n",
    "print(X.shape)\n",
    "print(Y.shape)"
   ]
  },
  {
   "cell_type": "code",
   "execution_count": 100,
   "metadata": {},
   "outputs": [
    {
     "data": {
      "text/plain": [
       "0       1\n",
       "1       1\n",
       "2       1\n",
       "3       1\n",
       "4       1\n",
       "       ..\n",
       "1993    3\n",
       "1994    3\n",
       "1995    3\n",
       "1996    3\n",
       "1997    3\n",
       "Name: Risk_Level, Length: 1998, dtype: int64"
      ]
     },
     "execution_count": 100,
     "metadata": {},
     "output_type": "execute_result"
    }
   ],
   "source": [
    "Y"
   ]
  },
  {
   "cell_type": "code",
   "execution_count": 101,
   "metadata": {},
   "outputs": [],
   "source": [
    "from sklearn.model_selection import train_test_split\n",
    "from sklearn.metrics import accuracy_score\n",
    "from sklearn.linear_model import LogisticRegression"
   ]
  },
  {
   "cell_type": "code",
   "execution_count": 111,
   "metadata": {},
   "outputs": [
    {
     "name": "stdout",
     "output_type": "stream",
     "text": [
      "The Shape of X: (999, 10)\n",
      "The Shape of Y_train: (999,)\n"
     ]
    },
    {
     "name": "stderr",
     "output_type": "stream",
     "text": [
      "d:\\Edunet\\icbp\\HealthApp\\healthappEnv\\Lib\\site-packages\\sklearn\\linear_model\\_logistic.py:465: ConvergenceWarning: lbfgs failed to converge (status=1):\n",
      "STOP: TOTAL NO. of ITERATIONS REACHED LIMIT.\n",
      "\n",
      "Increase the number of iterations (max_iter) or scale the data as shown in:\n",
      "    https://scikit-learn.org/stable/modules/preprocessing.html\n",
      "Please also refer to the documentation for alternative solver options:\n",
      "    https://scikit-learn.org/stable/modules/linear_model.html#logistic-regression\n",
      "  n_iter_i = _check_optimize_result(\n"
     ]
    },
    {
     "data": {
      "text/plain": [
       "0.997997997997998"
      ]
     },
     "execution_count": 111,
     "metadata": {},
     "output_type": "execute_result"
    }
   ],
   "source": [
    "X_train,X_test,Y_train,Y_test = train_test_split(X,Y,test_size=0.50)\n",
    "print(\"The Shape of X:\",X_train.shape)\n",
    "print(\"The Shape of Y_train:\",Y_train.shape)\n",
    "lr = LogisticRegression()\n",
    "lr.fit(X_train,Y_train)\n",
    "y_test_pred = lr.predict(X_test)\n",
    "accuracy_score(Y_test,y_test_pred)"
   ]
  },
  {
   "cell_type": "code",
   "execution_count": 112,
   "metadata": {},
   "outputs": [
    {
     "name": "stdout",
     "output_type": "stream",
     "text": [
      "The Shape of X: (1998, 10)\n",
      "The Shape of X_train: (999, 10)\n"
     ]
    },
    {
     "data": {
      "text/plain": [
       "1.0"
      ]
     },
     "execution_count": 112,
     "metadata": {},
     "output_type": "execute_result"
    }
   ],
   "source": [
    "from sklearn.ensemble import RandomForestClassifier\n",
    "X_train,X_test,Y_train,Y_test = train_test_split(X,Y,test_size=0.5)\n",
    "print(\"The Shape of X:\",X.shape)\n",
    "print(\"The Shape of X_train:\",X_train.shape)\n",
    "lr = RandomForestClassifier()\n",
    "lr.fit(X_train,Y_train)\n",
    "y_test_pred = lr.predict(X_test)\n",
    "accuracy_score(Y_test,y_test_pred)"
   ]
  },
  {
   "cell_type": "code",
   "execution_count": 113,
   "metadata": {},
   "outputs": [
    {
     "name": "stdout",
     "output_type": "stream",
     "text": [
      "The Shape of X: (1998, 10)\n",
      "The Shape of X_train: (999, 10)\n"
     ]
    },
    {
     "data": {
      "text/plain": [
       "1.0"
      ]
     },
     "execution_count": 113,
     "metadata": {},
     "output_type": "execute_result"
    }
   ],
   "source": [
    "from sklearn.ensemble import GradientBoostingClassifier\n",
    "X_train,X_test,Y_train,Y_test = train_test_split(X,Y,test_size=0.5)\n",
    "print(\"The Shape of X:\",X.shape)\n",
    "print(\"The Shape of X_train:\",X_train.shape)\n",
    "lr = GradientBoostingClassifier()\n",
    "lr.fit(X_train,Y_train)\n",
    "y_test_pred = lr.predict(X_test)\n",
    "accuracy_score(Y_test,y_test_pred)"
   ]
  },
  {
   "cell_type": "code",
   "execution_count": 114,
   "metadata": {},
   "outputs": [
    {
     "name": "stdout",
     "output_type": "stream",
     "text": [
      "The Shape of X: (1998, 10)\n",
      "The Shape of X_train: (999, 10)\n"
     ]
    },
    {
     "data": {
      "text/plain": [
       "1.0"
      ]
     },
     "execution_count": 114,
     "metadata": {},
     "output_type": "execute_result"
    }
   ],
   "source": [
    "from sklearn import svm\n",
    "X_train,X_test,Y_train,Y_test = train_test_split(X,Y,test_size=0.50)\n",
    "print(\"The Shape of X:\",X.shape)\n",
    "print(\"The Shape of X_train:\",X_train.shape)\n",
    "lr = svm.SVC()\n",
    "lr.fit(X_train,Y_train)\n",
    "y_test_pred = lr.predict(X_test)\n",
    "accuracy_score(Y_test,y_test_pred)"
   ]
  },
  {
   "cell_type": "code",
   "execution_count": 104,
   "metadata": {},
   "outputs": [
    {
     "name": "stdout",
     "output_type": "stream",
     "text": [
      "The Shape of X: (1998, 10)\n",
      "The Shape of X_train: (1498, 10)\n"
     ]
    },
    {
     "data": {
      "text/plain": [
       "1.0"
      ]
     },
     "execution_count": 104,
     "metadata": {},
     "output_type": "execute_result"
    }
   ],
   "source": [
    "from sklearn.tree import DecisionTreeClassifier\n",
    "X_train,X_test,Y_train,Y_test = train_test_split(X,Y,test_size=0.25)\n",
    "print(\"The Shape of X:\",X.shape)\n",
    "print(\"The Shape of X_train:\",X_train.shape)\n",
    "lr = DecisionTreeClassifier()\n",
    "lr.fit(X_train,Y_train)\n",
    "y_test_pred = lr.predict(X_test)\n",
    "accuracy_score(Y_test,y_test_pred)"
   ]
  },
  {
   "cell_type": "code",
   "execution_count": 115,
   "metadata": {},
   "outputs": [],
   "source": [
    "import pickle\n",
    "pickle.dump(lr,open(\"../models/Liver.pkl\",\"wb\"))"
   ]
  },
  {
   "cell_type": "code",
   "execution_count": null,
   "metadata": {},
   "outputs": [],
   "source": []
  }
 ],
 "metadata": {
  "kernelspec": {
   "display_name": "healthappEnv",
   "language": "python",
   "name": "python3"
  },
  "language_info": {
   "codemirror_mode": {
    "name": "ipython",
    "version": 3
   },
   "file_extension": ".py",
   "mimetype": "text/x-python",
   "name": "python",
   "nbconvert_exporter": "python",
   "pygments_lexer": "ipython3",
   "version": "3.12.2"
  }
 },
 "nbformat": 4,
 "nbformat_minor": 2
}
